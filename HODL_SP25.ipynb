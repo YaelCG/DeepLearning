{
  "nbformat": 4,
  "nbformat_minor": 0,
  "metadata": {
    "colab": {
      "provenance": [],
      "include_colab_link": true
    },
    "kernelspec": {
      "name": "python3",
      "display_name": "Python 3"
    },
    "language_info": {
      "name": "python"
    }
  },
  "cells": [
    {
      "cell_type": "markdown",
      "metadata": {
        "id": "view-in-github",
        "colab_type": "text"
      },
      "source": [
        "<a href=\"https://colab.research.google.com/github/YaelCG/DeepLearning/blob/main/HODL_SP25.ipynb\" target=\"_parent\"><img src=\"https://colab.research.google.com/assets/colab-badge.svg\" alt=\"Open In Colab\"/></a>"
      ]
    },
    {
      "cell_type": "markdown",
      "source": [
        "**Before you do anything else, make a copy of this notebook.**\n",
        "\n",
        "**Then, follow the instructions below to do the homework. Your final submission will just be a link to your copy of the notebook.**"
      ],
      "metadata": {
        "id": "M8zDBAOjSjrC"
      }
    },
    {
      "cell_type": "markdown",
      "source": [
        "## SETUP"
      ],
      "metadata": {
        "id": "pAv7k5Shl7qz"
      }
    },
    {
      "cell_type": "markdown",
      "source": [
        "Execute the code cells below and then proceed to the instructions."
      ],
      "metadata": {
        "id": "UnYFebfglzf2"
      }
    },
    {
      "cell_type": "code",
      "execution_count": null,
      "metadata": {
        "id": "uHCbnVkEH2YQ"
      },
      "outputs": [],
      "source": [
        "import os\n",
        "os.environ[\"KERAS_BACKEND\"] = \"tensorflow\""
      ]
    },
    {
      "cell_type": "code",
      "source": [
        "import keras\n",
        "import numpy as np\n",
        "import pandas as pd\n",
        "import matplotlib.pyplot as plt"
      ],
      "metadata": {
        "id": "m5rG6KHGID0_"
      },
      "execution_count": null,
      "outputs": []
    },
    {
      "cell_type": "code",
      "source": [
        "(x_train, y_train), (x_val, y_val) = keras.datasets.california_housing.load_data(\n",
        "    version=\"large\", path=\"california_housing.npz\", test_split=0.2, seed=113\n",
        ")"
      ],
      "metadata": {
        "colab": {
          "base_uri": "https://localhost:8080/"
        },
        "id": "D0hVzbapIGJ-",
        "outputId": "8dd3e680-9121-47b8-a62b-13e5866ba07f"
      },
      "execution_count": null,
      "outputs": [
        {
          "output_type": "stream",
          "name": "stdout",
          "text": [
            "Downloading data from https://storage.googleapis.com/tensorflow/tf-keras-datasets/california_housing.npz\n",
            "\u001b[1m743530/743530\u001b[0m \u001b[32m━━━━━━━━━━━━━━━━━━━━\u001b[0m\u001b[37m\u001b[0m \u001b[1m0s\u001b[0m 0us/step\n"
          ]
        }
      ]
    },
    {
      "cell_type": "markdown",
      "source": [
        "## INSTRUCTIONS"
      ],
      "metadata": {
        "id": "fYiovT6kl5K0"
      }
    },
    {
      "cell_type": "markdown",
      "source": [
        "### Dataset"
      ],
      "metadata": {
        "id": "IPApvx6lne1L"
      }
    },
    {
      "cell_type": "markdown",
      "source": [
        "Edited from https://keras.io/api/datasets/california_housing/\n",
        "\n",
        "You have downloaded the California Housing dataset. This dataset was derived from the 1990 U.S. census, using one row per census block group. A block group is the smallest geographical unit for which the U.S. Census Bureau publishes sample data (a block group typically has a population of 600 to 3,000 people).\n",
        "\n",
        "It's a regression dataset with 8 features. The target variable is the median house value in the census block group, in dollars.\n",
        "\n",
        "The 8 input features are the following:\n",
        "\n",
        "* MedInc: median income in block group\n",
        "* HouseAge: median house age in block group\n",
        "* AveRooms: average number of rooms per household\n",
        "* AveBedrms: average number of bedrooms per household\n",
        "* Population: block group population\n",
        "* AveOccup: average number of household members\n",
        "* Latitude: block group latitude\n",
        "* Longitude: block group longitude\n",
        "\n",
        "\n",
        "The 20,640 rows of data have been split into train and validation sets and stored in numpy arrays.\n",
        "* `x_train`, `x_val`: numpy arrays containing the training and validation X matrices, respectively.\n",
        "\n",
        "* `y_train`, `y_val`: numpy arrays containing the values of the dependent variable for the training and validation sets respectively. These are numbers typically between 25000 and 500000 and represent home prices in dollars."
      ],
      "metadata": {
        "id": "ev9Li6RMI3eO"
      }
    },
    {
      "cell_type": "markdown",
      "source": [
        "### Assignment"
      ],
      "metadata": {
        "id": "a55H2N6NniOG"
      }
    },
    {
      "cell_type": "markdown",
      "source": [
        "To answer the questions below, feel free to use/re-use the code in the [Neural Heart Disease Prediction Model colab](https://colab.research.google.com/drive/1vfJMtyMg_9Dt8erei_I1M3ve9W98DdGU?usp=drive_link) that we covered in class."
      ],
      "metadata": {
        "id": "m8Wwm6OYUSbi"
      }
    },
    {
      "cell_type": "markdown",
      "source": [
        "First, standardize `x_train` and `x_val` using the mean and standard deviation of `x_train`. Then complete the following three parts.\n",
        "\n",
        "Part I\n",
        "* Define a Keras model with a single hidden layer of 16 neurons\n",
        "* Use `model.compile` with `adam` as the optimizer and `mse` as the loss\n",
        "* Train the Keras model for 100 epochs with `model.fit`, using a batch size of 32.\n",
        "* Plot loss curves for the training and validation sets.\n",
        "* Evaluate the model on the validation set and report the MSE.\n",
        "\n",
        "\n",
        "Part II\n",
        "* Take the Keras model you defined in Part I and add another hidden layer of 16 neurons. Then repeat the steps from Part I.\n",
        "\n",
        "Part III\n",
        "* Take the Keras model you defined in Part I. Modify it so that the input layer is ALSO connected (directly) to the output layer i.e., the output layer should be connected to the input layer *and* the hidden layer. Then repeat the steps from Part I.\n",
        "\n",
        "Part IV\n",
        "\n",
        "Using Keras Tuner, do hyperparameter optimization across:\n",
        "- the number of layers: [1,2,3]\n",
        "- the number of units in each layer: [4, 8]\n",
        "\n",
        "(i.e., 6 hyper-parameter combinations)\n",
        "\n",
        "Answer these questions in text cells:\n",
        "* What is the optimal hyper-parameter combination?\n",
        "* What is the MSE of the optimal model?\n",
        "* How does this optimal model compare to the models found in Parts I, II and III?\n",
        "\n",
        "**COMPLETE ALL THE ABOVE BY ADDING CODE AND TEXT CELLS TO THIS NOTEBOOK BELOW THIS CELL.**"
      ],
      "metadata": {
        "id": "N_JzW-nPJtZX"
      }
    },
    {
      "cell_type": "code",
      "source": [],
      "metadata": {
        "id": "hBaVaafrlSal"
      },
      "execution_count": null,
      "outputs": []
    }
  ]
}